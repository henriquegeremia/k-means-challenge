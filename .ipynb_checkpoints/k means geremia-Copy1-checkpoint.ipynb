{
 "cells": [
  {
   "cell_type": "code",
   "execution_count": 1,
   "metadata": {
    "collapsed": true
   },
   "outputs": [],
   "source": [
    "import pandas as pd\n",
    "import numpy as np"
   ]
  },
  {
   "cell_type": "code",
   "execution_count": 2,
   "metadata": {
    "collapsed": true
   },
   "outputs": [
    {
     "data": {
      "text/html": [
       "<div>\n",
       "<style>\n",
       "    .dataframe thead tr:only-child th {\n",
       "        text-align: right;\n",
       "    }\n",
       "\n",
       "    .dataframe thead th {\n",
       "        text-align: left;\n",
       "    }\n",
       "\n",
       "    .dataframe tbody tr th {\n",
       "        vertical-align: top;\n",
       "    }\n",
       "</style>\n",
       "<table border=\"1\" class=\"dataframe\">\n",
       "  <thead>\n",
       "    <tr style=\"text-align: right;\">\n",
       "      <th></th>\n",
       "      <th>0</th>\n",
       "      <th>1</th>\n",
       "    </tr>\n",
       "  </thead>\n",
       "  <tbody>\n",
       "    <tr>\n",
       "      <th>0</th>\n",
       "      <td>180</td>\n",
       "      <td>75</td>\n",
       "    </tr>\n",
       "    <tr>\n",
       "      <th>1</th>\n",
       "      <td>174</td>\n",
       "      <td>71</td>\n",
       "    </tr>\n",
       "    <tr>\n",
       "      <th>2</th>\n",
       "      <td>184</td>\n",
       "      <td>83</td>\n",
       "    </tr>\n",
       "    <tr>\n",
       "      <th>3</th>\n",
       "      <td>168</td>\n",
       "      <td>63</td>\n",
       "    </tr>\n",
       "    <tr>\n",
       "      <th>4</th>\n",
       "      <td>178</td>\n",
       "      <td>70</td>\n",
       "    </tr>\n",
       "  </tbody>\n",
       "</table>\n",
       "</div>"
      ],
      "text/plain": [
       "     0   1\n",
       "0  180  75\n",
       "1  174  71\n",
       "2  184  83\n",
       "3  168  63\n",
       "4  178  70"
      ]
     },
     "execution_count": 2,
     "metadata": {},
     "output_type": "execute_result"
    }
   ],
   "source": [
    "file_path = 'height weight.csv'\n",
    "csv_file = pd.read_csv(file_path, header=None)\n",
    "df = csv_file\n",
    "csv_file.head()"
   ]
  },
  {
   "cell_type": "code",
   "execution_count": 3,
   "metadata": {
    "collapsed": true
   },
   "outputs": [],
   "source": [
    "def df_to_vectors(df):\n",
    "    n_of_registers, n_of_features = df.shape\n",
    "    \n",
    "    vectors = []\n",
    "    for i in range(0,n_of_registers-1):\n",
    "        serie = df.iloc[i]\n",
    "        vector = pd.Series.tolist(serie)\n",
    "        vectors.append(vector)\n",
    "    return vectors"
   ]
  },
  {
   "cell_type": "code",
   "execution_count": 7,
   "metadata": {
    "collapsed": true
   },
   "outputs": [],
   "source": [
    "points = df_to_vectors(df)"
   ]
  },
  {
   "cell_type": "code",
   "execution_count": 10,
   "metadata": {},
   "outputs": [
    {
     "data": {
      "text/plain": [
       "[[180, 75],\n",
       " [174, 71],\n",
       " [184, 83],\n",
       " [168, 63],\n",
       " [178, 70],\n",
       " [170, 59],\n",
       " [164, 53],\n",
       " [155, 46],\n",
       " [162, 52],\n",
       " [166, 55]]"
      ]
     },
     "execution_count": 10,
     "metadata": {},
     "output_type": "execute_result"
    }
   ],
   "source": [
    "points"
   ]
  },
  {
   "cell_type": "code",
   "execution_count": 18,
   "metadata": {
    "collapsed": true
   },
   "outputs": [
    {
     "name": "stdout",
     "output_type": "stream",
     "text": [
      "[180, 75]\n",
      "[174, 71]\n",
      "[184, 83]\n",
      "[168, 63]\n",
      "[178, 70]\n",
      "[170, 59]\n",
      "[164, 53]\n",
      "[155, 46]\n",
      "[162, 52]\n",
      "[166, 55]\n"
     ]
    }
   ],
   "source": [
    "for point in points:\n",
    "    print(point)"
   ]
  },
  {
   "cell_type": "code",
   "execution_count": null,
   "metadata": {
    "collapsed": true
   },
   "outputs": [],
   "source": [
    "def start_centroids(k, points):\n",
    "    controids = []\n",
    "    centroids[0] = greatest_point(points)\n",
    "    for i in range(1,k-1)\n",
    "        centroids[i] = furthest_new_centroid(centroids[i-1], points)\n",
    "    return centroids"
   ]
  },
  {
   "cell_type": "code",
   "execution_count": null,
   "metadata": {
    "collapsed": true
   },
   "outputs": [],
   "source": [
    "def greatest_point(points):\n",
    "    greatest = 0\n",
    "    for point in points:\n",
    "        greatest_candidate = np.sum(point)\n",
    "        if greatest_candidate > greatest:\n",
    "            greatest = greatest_candidate\n",
    "            greatest_point = point\n",
    "#     print(greatest_point)\n",
    "    return greatest_point\n",
    "    \n",
    "greatest_point(points)"
   ]
  },
  {
   "cell_type": "code",
   "execution_count": null,
   "metadata": {
    "collapsed": true
   },
   "outputs": [],
   "source": [
    "points = df_to_vectors(df)\n",
    "start_centroids(2, points)"
   ]
  },
  {
   "cell_type": "code",
   "execution_count": 21,
   "metadata": {},
   "outputs": [
    {
     "data": {
      "text/plain": [
       "1"
      ]
     },
     "execution_count": 21,
     "metadata": {},
     "output_type": "execute_result"
    }
   ],
   "source": [
    "a = 31\n",
    "b = 2\n",
    "1 if a > b else -1 "
   ]
  },
  {
   "cell_type": "code",
   "execution_count": 30,
   "metadata": {},
   "outputs": [
    {
     "name": "stdout",
     "output_type": "stream",
     "text": [
      "[-3 -4]\n"
     ]
    },
    {
     "data": {
      "text/plain": [
       "5.0"
      ]
     },
     "execution_count": 30,
     "metadata": {},
     "output_type": "execute_result"
    }
   ],
   "source": [
    "a = [1,3]\n",
    "b = [4,7]\n",
    "distance = np.subtract(a, b)\n",
    "print(distance)\n",
    "np.linalg.norm(distance)"
   ]
  },
  {
   "cell_type": "code",
   "execution_count": null,
   "metadata": {
    "collapsed": true
   },
   "outputs": [],
   "source": [
    "def distance(a, b):\n",
    "#     a = [1,3]\n",
    "#     b = [4,7]\n",
    "    distance = np.subtract(a, b)\n",
    "#     print(distance)\n",
    "    magnitude = np.linalg.norm(distance)\n",
    "\n",
    "    return magnitude"
   ]
  },
  {
   "cell_type": "code",
   "execution_count": null,
   "metadata": {
    "collapsed": true
   },
   "outputs": [],
   "source": [
    "def furthest_new_centroid(centroid, points):\n",
    "    distance = 0\n",
    "    for point in points: # t encontrar ponto mais distante\n",
    "        distance_candidate = distance(centroid, point)\n",
    "        distance > distance_candidate ? \n",
    "        \n",
    "    distance = distance(centroid,points)\n",
    "    \n",
    "furthest_new_centroid(centroids[i-1], points)"
   ]
  },
  {
   "cell_type": "code",
   "execution_count": null,
   "metadata": {
    "collapsed": true
   },
   "outputs": [],
   "source": [
    "def start_centroids(k, points):\n",
    "    controids = []\n",
    "    centroids[0] = greatest_point(points)\n",
    "    for i in range(0,k-1)\n",
    "        centroids[i] = \n",
    "    \n",
    "points = df_to_vectors(df)\n",
    "start_centroids(2, points)"
   ]
  },
  {
   "cell_type": "code",
   "execution_count": null,
   "metadata": {
    "collapsed": true
   },
   "outputs": [],
   "source": [
    "def kmeans_geremia(df, k)\n",
    "    n_of_registers, n_of_features = df.shape\n",
    "    \n",
    "    df_to_vectors(df)\n",
    "    \n",
    "    start_centroids(k, points)"
   ]
  },
  {
   "cell_type": "code",
   "execution_count": null,
   "metadata": {
    "collapsed": true
   },
   "outputs": [],
   "source": [
    "import matplotlib.pyplot as plt"
   ]
  },
  {
   "cell_type": "code",
   "execution_count": null,
   "metadata": {
    "collapsed": true
   },
   "outputs": [],
   "source": [
    "fig = plt.figure()\n",
    "ax = fig.add_subplot(1,1,1)\n",
    "ax.scatter(df[0], df[1])\n",
    "plt.show()"
   ]
  },
  {
   "cell_type": "code",
   "execution_count": null,
   "metadata": {
    "collapsed": true
   },
   "outputs": [],
   "source": [
    "def transform_df_to_points(df):\n",
    "    n_of_registers, n_of_features = df.shape\n",
    "    for feature_number in n_of_features:\n",
    "        df[]"
   ]
  },
  {
   "cell_type": "code",
   "execution_count": null,
   "metadata": {
    "collapsed": true
   },
   "outputs": [],
   "source": [
    "def create_centroids(points, k):\n",
    "    return points"
   ]
  },
  {
   "cell_type": "code",
   "execution_count": null,
   "metadata": {
    "collapsed": true
   },
   "outputs": [],
   "source": [
    "create_centroids([1,2,3], 1)"
   ]
  },
  {
   "cell_type": "code",
   "execution_count": null,
   "metadata": {
    "collapsed": true
   },
   "outputs": [],
   "source": [
    "csv_file.size"
   ]
  },
  {
   "cell_type": "code",
   "execution_count": null,
   "metadata": {
    "collapsed": true
   },
   "outputs": [],
   "source": [
    "def create_point_coordinates(df)\n",
    "    n_of_collumns =  df.size"
   ]
  },
  {
   "cell_type": "code",
   "execution_count": null,
   "metadata": {
    "collapsed": true
   },
   "outputs": [],
   "source": []
  }
 ],
 "metadata": {
  "kernelspec": {
   "display_name": "Python 3",
   "language": "python",
   "name": "python3"
  },
  "language_info": {
   "codemirror_mode": {
    "name": "ipython",
    "version": 3
   },
   "file_extension": ".py",
   "mimetype": "text/x-python",
   "name": "python",
   "nbconvert_exporter": "python",
   "pygments_lexer": "ipython3",
   "version": "3.6.2"
  }
 },
 "nbformat": 4,
 "nbformat_minor": 2
}
